{
 "cells": [
  {
   "cell_type": "markdown",
   "id": "356b0db8-939a-4a4e-b805-4baf4f359d41",
   "metadata": {},
   "source": [
    "**Python basic questions**"
   ]
  },
  {
   "cell_type": "markdown",
   "id": "a917b787-a3e9-49e0-87c5-e4c318198244",
   "metadata": {},
   "source": [
    "**Q1.What is Python, and why is it popular?**\n"
   ]
  },
  {
   "cell_type": "markdown",
   "id": "6d3abd49-aaa5-4114-99da-169a0cd8a2aa",
   "metadata": {},
   "source": [
    "**Ans- Python is a high level , interpreted programing language. It is popular because of wide usage in the tech industry , versatility, extensive libraries, and strong community support.**"
   ]
  },
  {
   "cell_type": "markdown",
   "id": "26327a8e-29c8-4613-a2be-0d52334fab25",
   "metadata": {},
   "source": [
    "**Q2.What is an interpreter in Python?**\n"
   ]
  },
  {
   "cell_type": "markdown",
   "id": "50a5adaa-2b32-4950-b8ec-dae5095b1be4",
   "metadata": {},
   "source": [
    "**Ans- An interpreter executes Python code line-by-line instead of scanning the whole code like a compiler , converting it to machine code, which makes debugging easier.**"
   ]
  },
  {
   "cell_type": "markdown",
   "id": "da223580-b9db-4729-b391-40f0599e6e9d",
   "metadata": {},
   "source": [
    "**Q3.What are pre-defined keywords in Python?**\n"
   ]
  },
  {
   "cell_type": "markdown",
   "id": "d8b7861d-a6e1-463f-92f4-9d28d0378cea",
   "metadata": {},
   "source": [
    "**Ans- Pre-defined Keywords are special reserved words that have specific meaning in Python language (e.g., if, else, while, for, etc).**"
   ]
  },
  {
   "cell_type": "markdown",
   "id": "a76f9f82-5bda-48b0-a19b-d6c8ac077f33",
   "metadata": {},
   "source": [
    "**Q4.Can keywords be used as variable names?**\n"
   ]
  },
  {
   "cell_type": "markdown",
   "id": "4ce0bcd2-42e4-4fe4-a151-877ab7a325bf",
   "metadata": {},
   "source": [
    "**Ans- No, keywords cannot be used as variable names because they are reserved for certain specific Python syntax.**"
   ]
  },
  {
   "cell_type": "markdown",
   "id": "d031d154-2d84-4eb8-9fa0-354f379efa27",
   "metadata": {},
   "source": [
    "**Q5.What is mutability in Python?**\n"
   ]
  },
  {
   "cell_type": "markdown",
   "id": "5e1fb6a3-04eb-46fc-a1d4-849fc528f240",
   "metadata": {},
   "source": [
    "**Ans- Objects/container whose state or value can be changed after they are created are called as mutable objects/container or known as mutability.\n",
    "list is a type of mutable object that supports item assignment.**"
   ]
  },
  {
   "cell_type": "markdown",
   "id": "f81b7afb-b323-43c7-9beb-cee1c3ad9cf7",
   "metadata": {},
   "source": [
    "**Q6.Why are lists mutable, but tuples are immutable?**\n"
   ]
  },
  {
   "cell_type": "markdown",
   "id": "232aa78a-df79-468e-853b-0a0c7d6721a8",
   "metadata": {},
   "source": [
    "**Ans- Lists are designed to be flexible and editable that support item assignment.. Tuples or strings are immutable by design to ensure data integrity.**"
   ]
  },
  {
   "cell_type": "markdown",
   "id": "fb36d199-2898-4591-af9d-4bc8c841153c",
   "metadata": {},
   "source": [
    "**Q7.What is the difference between == and is operators in Python?**\n"
   ]
  },
  {
   "cell_type": "markdown",
   "id": "968edad4-7984-4fa1-8da8-c2be3d8cf499",
   "metadata": {},
   "source": [
    "**Ans- The differnce between both  == and is operators are :-  \n",
    "     \"==\" operator checks value equality between two objects while \"is\" operator compare the memory location of two object.**"
   ]
  },
  {
   "cell_type": "markdown",
   "id": "5c718bda-a2c0-4e25-9697-dde11d612655",
   "metadata": {},
   "source": [
    "**Q8.What are logical operators in Python?**\n"
   ]
  },
  {
   "cell_type": "markdown",
   "id": "61b4daac-67d6-4326-9121-fca4bc276454",
   "metadata": {},
   "source": [
    "**Ans- Logical operators in Python are used to perform logical operations on one or more Boolean expressions that returns a boolean value(True or false).**"
   ]
  },
  {
   "cell_type": "markdown",
   "id": "9364430c-163f-4f17-ac2f-55807626faf3",
   "metadata": {},
   "source": [
    "**Q9.What is type casting in Python?**\n"
   ]
  },
  {
   "cell_type": "markdown",
   "id": "7c8f6b89-519d-46ce-9072-9de5abc04489",
   "metadata": {},
   "source": [
    "**Ans- Type casting or type conversion is the preocess of changing the data type of a value/object. It is done because while executing/computation using operators, there can be mismatch between the datatype.**"
   ]
  },
  {
   "cell_type": "markdown",
   "id": "ddc1860a-9e4e-415a-b04d-4469cb2e8057",
   "metadata": {},
   "source": [
    "**Q10.What is the difference between implicit and explicit type casting?**\n"
   ]
  },
  {
   "cell_type": "markdown",
   "id": "d9afd720-509e-4761-94b7-8465a5725c5a",
   "metadata": {},
   "source": [
    "**Ans- Implicit typecasting means done automatically by Python  or where python understand the datatype.\n",
    "Example:- a = 5\n",
    "          type(a) \n",
    "which will give the datatype of \"a\" that is an integer.\n",
    "Explicit typecasting refers to  converting the data type using inbuilt functions using str, int, float, bool.\n",
    "Example:- a = \"5\"\n",
    "          type(a)\n",
    "which will give string as the data type. To change we use \"int(a)\" to change it to an integer.**"
   ]
  },
  {
   "cell_type": "markdown",
   "id": "14fd46c4-55ca-4e85-8d80-94c84714cea5",
   "metadata": {},
   "source": [
    "**Q11.What is the purpose of conditional statements in Python?**\n"
   ]
  },
  {
   "cell_type": "markdown",
   "id": "4393f2ee-fc24-46db-8607-ee5a3339c40a",
   "metadata": {},
   "source": [
    "**Ans- They control the flow of the program and helps us to code decisions based on some preconditions using :-                                          1.if\n",
    "2.if else\n",
    "3.if elif(elseif) else\n",
    "4.nested if else.**"
   ]
  },
  {
   "cell_type": "markdown",
   "id": "5040aaaa-db59-4022-81e8-69cbb2511bdd",
   "metadata": {},
   "source": [
    "**Q12.How does the elif statement work?**\n"
   ]
  },
  {
   "cell_type": "markdown",
   "id": "4eed7e84-6261-4f4e-8487-243677112b2b",
   "metadata": {},
   "source": [
    "**Ans- The elif (short for \"else if\") statement is used in Python to check multiple conditions in a sequence after an initial if statement. It allows the program to branch into multiple paths depending on different conditions—without writing multiple,if statements.**"
   ]
  },
  {
   "cell_type": "markdown",
   "id": "4920954b-fee3-4f97-8843-05568728c8c4",
   "metadata": {},
   "source": [
    "**Q13.What is the difference between for and while loops?**\n"
   ]
  },
  {
   "cell_type": "markdown",
   "id": "f081f041-a017-4360-8119-f890934418f0",
   "metadata": {},
   "source": [
    "**Ans- Loop statements allows to execute a block of code repeatedly. There are two kinds of loops- \"while\" and \"for\" loop.\n",
    "While loop:- repeatedly executed a block of code untill a condition is met.\n",
    "for loop:- iterate over a sequence of elements.**"
   ]
  },
  {
   "cell_type": "markdown",
   "id": "342a8ecd-e612-4d0e-ae4e-1b92cef62037",
   "metadata": {},
   "source": [
    "**Q14.Describe a scenario where a while loop is more suitable than a for loop.**\n"
   ]
  },
  {
   "cell_type": "markdown",
   "id": "6748ab8b-0dfe-441a-a986-eca6b6aa757e",
   "metadata": {},
   "source": [
    "**Ans- simulation of an ATM machine, where we want the user to keep withdrawing money until either they choose to stop or their account balance is insufficient.\n",
    "we don't know in advance how many withdrawals the user will make, so using a for loop is not appropriate here. A while loop fits perfectly because it allows repeated actions based on changing conditions.**"
   ]
  },
  {
   "cell_type": "markdown",
   "id": "0842d4eb-a9d6-4f12-9e00-92a341d60329",
   "metadata": {},
   "source": [
    "**Practical Questions**"
   ]
  },
  {
   "cell_type": "code",
   "execution_count": 40,
   "id": "a4230f9f-c7b9-4ce4-a918-2826409308ed",
   "metadata": {},
   "outputs": [
    {
     "name": "stdout",
     "output_type": "stream",
     "text": [
      "Hello, World!\n"
     ]
    }
   ],
   "source": [
    "# Q1. Write a Python program to print \"Hello, World!\n",
    "print(\"Hello, World!\")\n"
   ]
  },
  {
   "cell_type": "code",
   "execution_count": 41,
   "id": "318203d3-8fa3-44f4-8005-4accb276fc97",
   "metadata": {},
   "outputs": [
    {
     "name": "stdout",
     "output_type": "stream",
     "text": [
      "My name is Ram and i am 25 years old\n"
     ]
    }
   ],
   "source": [
    "# Q2. Write a Python program that displays your name and age\n",
    "name = \"Ram\"\n",
    "age = 25\n",
    "print(\"My name is {} and i am {} years old\".format(name, age))"
   ]
  },
  {
   "cell_type": "code",
   "execution_count": 42,
   "id": "dc21749c-e88f-4255-8903-13c212a769c6",
   "metadata": {},
   "outputs": [
    {
     "name": "stdout",
     "output_type": "stream",
     "text": [
      "\n",
      "Here is a list of the Python keywords.  Enter any keyword to get more help.\n",
      "\n",
      "False               class               from                or\n",
      "None                continue            global              pass\n",
      "True                def                 if                  raise\n",
      "and                 del                 import              return\n",
      "as                  elif                in                  try\n",
      "assert              else                is                  while\n",
      "async               except              lambda              with\n",
      "await               finally             nonlocal            yield\n",
      "break               for                 not                 \n",
      "\n"
     ]
    }
   ],
   "source": [
    "# Q3. Write code to print all the pre-defined keywords in Python using the keyword library\n",
    "help('keywords')"
   ]
  },
  {
   "cell_type": "code",
   "execution_count": 43,
   "id": "fbaded82-da13-48e0-8b08-3bb097fdd626",
   "metadata": {},
   "outputs": [
    {
     "name": "stdin",
     "output_type": "stream",
     "text": [
      "Enter a word:  if\n"
     ]
    },
    {
     "name": "stdout",
     "output_type": "stream",
     "text": [
      "if is a Python keyword.\n"
     ]
    }
   ],
   "source": [
    "# Q4. Write a program that checks if a given word is a Python keyword.\n",
    "\n",
    "import keyword\n",
    "\n",
    "word = input(\"Enter a word: \")\n",
    "\n",
    "if keyword.iskeyword(word):\n",
    "    print(f\"{word} is a Python keyword.\")\n",
    "else:\n",
    "    print(f\"{word} is NOT a Python keyword.\")\n"
   ]
  },
  {
   "cell_type": "code",
   "execution_count": 49,
   "id": "75a04bdc-0bc7-4035-97e0-d9debfbb1590",
   "metadata": {},
   "outputs": [
    {
     "name": "stdout",
     "output_type": "stream",
     "text": [
      "Original list: [1, 2, 3]\n",
      "List after changing first element: [100, 2, 3]\n",
      "\n",
      "Original tuple: (1, 2, 3)\n",
      "Trying to change first element of the tuple...\n"
     ]
    },
    {
     "ename": "TypeError",
     "evalue": "'tuple' object does not support item assignment",
     "output_type": "error",
     "traceback": [
      "\u001b[31m---------------------------------------------------------------------------\u001b[39m",
      "\u001b[31mTypeError\u001b[39m                                 Traceback (most recent call last)",
      "\u001b[36mCell\u001b[39m\u001b[36m \u001b[39m\u001b[32mIn[49]\u001b[39m\u001b[32m, line 16\u001b[39m\n\u001b[32m     13\u001b[39m \u001b[38;5;66;03m# Try to change the first element of the tuple\u001b[39;00m\n\u001b[32m     14\u001b[39m \u001b[38;5;66;03m# This will cause an error because tuples can't be changed\u001b[39;00m\n\u001b[32m     15\u001b[39m \u001b[38;5;28mprint\u001b[39m(\u001b[33m\"\u001b[39m\u001b[33mTrying to change first element of the tuple...\u001b[39m\u001b[33m\"\u001b[39m)\n\u001b[32m---> \u001b[39m\u001b[32m16\u001b[39m \u001b[43mmy_tuple\u001b[49m\u001b[43m[\u001b[49m\u001b[32;43m0\u001b[39;49m\u001b[43m]\u001b[49m = \u001b[32m100\u001b[39m  \u001b[38;5;66;03m# ❌ This will raise an error\u001b[39;00m\n",
      "\u001b[31mTypeError\u001b[39m: 'tuple' object does not support item assignment"
     ]
    }
   ],
   "source": [
    "# Q5. Create a list and tuple in Python, and demonstrate how attempting to change an element works differently for each.\n",
    "\n",
    "# Create a list\n",
    "my_list = [1, 2, 3]\n",
    "print(\"Original list:\", my_list)\n",
    "my_list[0] = 100\n",
    "print(\"List after changing first element:\", my_list)\n",
    "\n",
    "# Create a tuple\n",
    "my_tuple = (1, 2, 3)\n",
    "print(\"\\nOriginal tuple:\", my_tuple)\n",
    "\n",
    "# Try to change the first element of the tuple\n",
    "# This will cause an error because tuples can't be changed\n",
    "print(\"Trying to change first element of the tuple...\")\n",
    "my_tuple[0] = 100  #This will raise an error\n"
   ]
  },
  {
   "cell_type": "code",
   "execution_count": 51,
   "id": "71f73d8d-03e7-4d98-bac1-05542fdfec92",
   "metadata": {},
   "outputs": [
    {
     "name": "stdout",
     "output_type": "stream",
     "text": [
      "x after function: 5\n",
      "y after function: [1, 2, 3, 4]\n"
     ]
    }
   ],
   "source": [
    "# 6. Write a function to demonstrate the behavior of mutable and immutable arguments.\n",
    "\n",
    "def modify(a, b):\n",
    "    a += 10         # Immutable (int) - won't affect the original\n",
    "    b.append(4)     # Mutable (list) - will affect the original\n",
    "\n",
    "# Immutable variable (int)\n",
    "x = 5\n",
    "\n",
    "# Mutable variable (list)\n",
    "y = [1, 2, 3]\n",
    "\n",
    "modify(x, y)\n",
    "\n",
    "print(\"x after function:\", x)  # Still 5\n",
    "print(\"y after function:\", y)  # Now [1, 2, 3, 4]\n"
   ]
  },
  {
   "cell_type": "code",
   "execution_count": null,
   "id": "922b30f4-1b81-4310-8f23-75ac041669f7",
   "metadata": {},
   "outputs": [],
   "source": [
    "# 7. Write a program that performs basic arithmetic operations on two user-input numbers.\n",
    "\n",
    "#simple calculator\n",
    "num1=float(input(\"Enter first number:\"))\n",
    "num2=float(input(\"Enter second number:\"))\n",
    "operation=input(\"Enter the operator:\")\n",
    "\n",
    "if operation == \"+\":\n",
    "    print(num1 + num2)\n",
    "elif operation == \"-\":\n",
    "    print(num1 - num2)\n",
    "elif operation == \"*\":\n",
    "    print(num1 * num2)\n",
    "elif operation == \"/\":\n",
    "    print(num1 / num2)\n",
    "else:\n",
    "    print(\"invalid operator\")\n",
    "\n"
   ]
  },
  {
   "cell_type": "code",
   "execution_count": 14,
   "id": "04438a25-87e2-4554-8a70-5d2444c43329",
   "metadata": {},
   "outputs": [
    {
     "name": "stdin",
     "output_type": "stream",
     "text": [
      "Enter name:  \n",
      "Enter password:  \n"
     ]
    },
    {
     "name": "stdout",
     "output_type": "stream",
     "text": [
      "Username cannot be empty!\n"
     ]
    }
   ],
   "source": [
    "# 8. Write a program to demonstrate the use of logical operators.\n",
    "\n",
    "# Input username and password\n",
    "user_name = input(\"Enter name: \")\n",
    "password = input(\"Enter password: \")\n",
    "\n",
    "# Using 'and' operator: both username and password must be correct\n",
    "if user_name == \"admin\" and password == \"12345\":\n",
    "    print(\"Login successful using username and password.\")\n",
    "\n",
    "# Using 'or' operator: either username or a backup code is accepted\n",
    "elif user_name == \"admin\" or password == \"backup123\":\n",
    "    print(\"Login partially successful using username or backup password\")\n",
    "\n",
    "# Using 'not' operator: check for empty username or password\n",
    "elif not user_name:\n",
    "    print(\"Username cannot be empty!\")\n",
    "elif not password:\n",
    "    print(\"password cannot be empty!\")    \n",
    "\n",
    "else:\n",
    "    print(\"Login unsuccessful.\")\n"
   ]
  },
  {
   "cell_type": "code",
   "execution_count": 21,
   "id": "c3a84da3-a542-4e5b-9ab7-9e1ba8f9ef7e",
   "metadata": {},
   "outputs": [
    {
     "name": "stdin",
     "output_type": "stream",
     "text": [
      "Enter a value:  False\n"
     ]
    },
    {
     "name": "stdout",
     "output_type": "stream",
     "text": [
      "Cannot convert to integer.\n",
      "Cannot convert to float:\n",
      "Boolean: False\n"
     ]
    }
   ],
   "source": [
    "# 9.Write a Python program to convert user input from string to integer, float, and boolean types.\n",
    "\n",
    "# Get user input as a string\n",
    "user_input = input(\"Enter a value: \")\n",
    "\n",
    "# Convert to integer\n",
    "try:\n",
    "    int_value = int(user_input)\n",
    "    print(\"As integer:\", int_value) \n",
    "\n",
    "except ValueError:\n",
    "    print(\"Cannot convert to integer.\")\n",
    "\n",
    "# Convert to float\n",
    "try:\n",
    "    float_value = float(user_input)\n",
    "    print(\"As float:\", float_value)\n",
    "except ValueError:\n",
    "    print(\"Cannot convert to float:\")\n",
    "    \n",
    "# Convert to boolean\n",
    "bool_value = user_input.lower() not in [\"\", \"false\", \"0\"]\n",
    "print(\"Boolean:\", bool_value)\n",
    "\n"
   ]
  },
  {
   "cell_type": "code",
   "execution_count": 24,
   "id": "b1be26e7-1fc9-4a21-a097-ec7353d125c8",
   "metadata": {},
   "outputs": [
    {
     "name": "stdout",
     "output_type": "stream",
     "text": [
      "Original list: ['1', '0', '3']\n",
      "As integers: [1, 0, 3]\n",
      "As floats: [1.0, 0.0, 3.0]\n",
      "As booleans: [True, False, True]\n"
     ]
    }
   ],
   "source": [
    "# 10. Write code to demonstrate type casting with list elements.\n",
    "\n",
    "# Original list of strings\n",
    "string_list = [\"1\", \"0\", \"3\"]\n",
    "\n",
    "print(\"Original list:\", string_list)\n",
    "\n",
    "# Convert strings to integers\n",
    "integer_list = [int(x) for x in string_list]\n",
    "print(\"As integers:\", integer_list)\n",
    "\n",
    "# Convert integers to floats\n",
    "float_list = [float(x) for x in integer_list]\n",
    "print(\"As floats:\", float_list)\n",
    "\n",
    "# Convert floats to booleans\n",
    "bool_list = [bool(x) for x in float_list]\n",
    "print(\"As booleans:\", bool_list)\n",
    "\n"
   ]
  },
  {
   "cell_type": "code",
   "execution_count": 31,
   "id": "0265e023-cfdc-4a80-aba5-62a5e9d0e851",
   "metadata": {},
   "outputs": [
    {
     "name": "stdin",
     "output_type": "stream",
     "text": [
      "Enter a number: 0000\n"
     ]
    },
    {
     "name": "stdout",
     "output_type": "stream",
     "text": [
      "it is a zero\n"
     ]
    }
   ],
   "source": [
    "# 11.Write a program that checks if a number is positive, negative, or zero.\n",
    "\n",
    "number=float(input(\"Enter a number:\"))\n",
    "if number > 0:\n",
    "    print(\"it is a positive number\")\n",
    "elif number < 0:\n",
    "    print(\"it is a negative number\")\n",
    "else:\n",
    "    print(\"it is a zero\")\n"
   ]
  },
  {
   "cell_type": "code",
   "execution_count": 33,
   "id": "57a81c10-9cb1-4b93-8e3a-5b0c09959f32",
   "metadata": {},
   "outputs": [
    {
     "name": "stdout",
     "output_type": "stream",
     "text": [
      "1 2 3 4 5 6 7 8 9 10 "
     ]
    }
   ],
   "source": [
    "# 12. Write a for loop to print numbers from 1 to 10.\n",
    "l=[1,2,3,4,5,6,7,8,9,10]\n",
    "for i in l:\n",
    "    print(i , end=\" \")"
   ]
  },
  {
   "cell_type": "code",
   "execution_count": 42,
   "id": "c830e9b1-8da8-4bbd-b42a-8645b6837b92",
   "metadata": {},
   "outputs": [
    {
     "name": "stdout",
     "output_type": "stream",
     "text": [
      "2 4 6 8 10 12 14 16 18 20 22 24 26 28 30 32 34 36 38 40 42 44 46 48 50 \n",
      "Sum of even numbers: 650\n"
     ]
    }
   ],
   "source": [
    "# 13.Write a Python program to find the sum of all even numbers between 1 and 50.\n",
    "\n",
    "total = 0\n",
    "for i in range(1, 51):\n",
    "    if i % 2 != 0:\n",
    "        continue\n",
    "    total += i\n",
    "    print(i, end=\" \")\n",
    "\n",
    "print(\"\\nSum of even numbers:\", total)"
   ]
  },
  {
   "cell_type": "code",
   "execution_count": 45,
   "id": "50283390-1379-4f6f-937e-12c119f1ea8c",
   "metadata": {},
   "outputs": [
    {
     "name": "stdout",
     "output_type": "stream",
     "text": [
      "olleh"
     ]
    }
   ],
   "source": [
    "# 14. Write a program to reverse a string using a while loop.\n",
    "\n",
    "text = \"hello\"\n",
    "i = len(text) - 1\n",
    "\n",
    "while i >= 0:\n",
    "    print(text[i], end=\"\")\n",
    "    i -= 1\n"
   ]
  },
  {
   "cell_type": "code",
   "execution_count": 48,
   "id": "1a095749-5d6c-442f-b892-87d685f3f683",
   "metadata": {},
   "outputs": [
    {
     "name": "stdin",
     "output_type": "stream",
     "text": [
      "Enter a number:  4\n"
     ]
    },
    {
     "name": "stdout",
     "output_type": "stream",
     "text": [
      "Factorial is: 24\n"
     ]
    }
   ],
   "source": [
    "# 15.Write a Python program to calculate the factorial of a number provided by the user using a while loop.\n",
    "\n",
    "n = int(input(\"Enter a number: \"))\n",
    "fact = 1\n",
    "i = 1\n",
    "\n",
    "while i <= n:\n",
    "    fact = fact * i\n",
    "    i = i + 1\n",
    "\n",
    "print(\"Factorial is:\", fact)\n"
   ]
  },
  {
   "cell_type": "code",
   "execution_count": null,
   "id": "c13bfc74-64e6-4209-8eb3-e2ef11c431a1",
   "metadata": {},
   "outputs": [],
   "source": []
  }
 ],
 "metadata": {
  "kernelspec": {
   "display_name": "Python 3 (ipykernel)",
   "language": "python",
   "name": "python3"
  },
  "language_info": {
   "codemirror_mode": {
    "name": "ipython",
    "version": 3
   },
   "file_extension": ".py",
   "mimetype": "text/x-python",
   "name": "python",
   "nbconvert_exporter": "python",
   "pygments_lexer": "ipython3",
   "version": "3.13.5"
  }
 },
 "nbformat": 4,
 "nbformat_minor": 5
}
